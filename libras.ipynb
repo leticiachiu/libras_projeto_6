{
 "cells": [
  {
   "attachments": {},
   "cell_type": "markdown",
   "metadata": {},
   "source": [
    "# Projeto 6 - LIBRAS"
   ]
  },
  {
   "attachments": {},
   "cell_type": "markdown",
   "metadata": {},
   "source": [
    "(introdução explicando um pouco do projeto)"
   ]
  },
  {
   "attachments": {},
   "cell_type": "markdown",
   "metadata": {},
   "source": [
    "## Install dependencies and setup packages"
   ]
  },
  {
   "cell_type": "code",
   "execution_count": 1,
   "metadata": {},
   "outputs": [
    {
     "name": "stdout",
     "output_type": "stream",
     "text": [
      "\u001b[33mWARNING: Skipping /opt/homebrew/lib/python3.11/site-packages/protobuf-4.21.12-py3.11.egg-info due to invalid metadata entry 'name'\u001b[0m\u001b[33m\n",
      "\u001b[0m\u001b[33mWARNING: Skipping /opt/homebrew/lib/python3.11/site-packages/protobuf-4.21.12-py3.11.egg-info due to invalid metadata entry 'name'\u001b[0m\u001b[33m\n",
      "\u001b[0m\u001b[31mERROR: Could not find a version that satisfies the requirement tensorflow (from versions: none)\u001b[0m\u001b[31m\n",
      "\u001b[0m\u001b[31mERROR: No matching distribution found for tensorflow\u001b[0m\u001b[31m\n",
      "\u001b[0m\u001b[33mWARNING: Skipping /opt/homebrew/lib/python3.11/site-packages/protobuf-4.21.12-py3.11.egg-info due to invalid metadata entry 'name'\u001b[0m\u001b[33m\n",
      "\u001b[0mNote: you may need to restart the kernel to use updated packages.\n"
     ]
    }
   ],
   "source": [
    "%pip install tensorflow tensorflow-gpu opencv-python matplotlib"
   ]
  },
  {
   "cell_type": "code",
   "execution_count": 2,
   "metadata": {},
   "outputs": [
    {
     "name": "stdout",
     "output_type": "stream",
     "text": [
      "\u001b[33mWARNING: Skipping /opt/homebrew/lib/python3.11/site-packages/protobuf-4.21.12-py3.11.egg-info due to invalid metadata entry 'name'\u001b[0m\u001b[33m\n",
      "\u001b[0mPackage            Version\n",
      "------------------ ---------\n",
      "appnope            0.1.3\n",
      "asttokens          2.2.1\n",
      "backcall           0.2.0\n",
      "certifi            2022.12.7\n",
      "charset-normalizer 3.1.0\n",
      "comm               0.1.3\n",
      "debugpy            1.6.7\n",
      "decorator          5.1.1\n",
      "executing          1.2.0\n",
      "idna               3.4\n",
      "ipykernel          6.22.0\n",
      "ipython            8.12.0\n",
      "jedi               0.18.2\n",
      "jupyter_client     8.2.0\n",
      "jupyter_core       5.3.0\n",
      "matplotlib-inline  0.1.6\n",
      "nest-asyncio       1.5.6\n",
      "packaging          23.1\n",
      "parso              0.8.3\n",
      "pexpect            4.8.0\n",
      "pickleshare        0.7.5\n",
      "pip                23.1\n",
      "platformdirs       3.2.0\n",
      "prompt-toolkit     3.0.38\n",
      "psutil             5.9.5\n",
      "ptyprocess         0.7.0\n",
      "pure-eval          0.2.2\n",
      "Pygments           2.15.1\n",
      "python-dateutil    2.8.2\n",
      "pyzmq              25.0.2\n",
      "requests           2.28.2\n",
      "setuptools         65.6.3\n",
      "six                1.16.0\n",
      "stack-data         0.6.2\n",
      "tornado            6.3\n",
      "traitlets          5.9.0\n",
      "urllib3            1.26.15\n",
      "wcwidth            0.2.6\n",
      "wheel              0.38.4\n",
      "\u001b[33mWARNING: Skipping /opt/homebrew/lib/python3.11/site-packages/protobuf-4.21.12-py3.11.egg-info due to invalid metadata entry 'name'\u001b[0m\u001b[33m\n",
      "\u001b[0m"
     ]
    }
   ],
   "source": [
    "!pip list"
   ]
  },
  {
   "cell_type": "code",
   "execution_count": 3,
   "metadata": {},
   "outputs": [
    {
     "ename": "ModuleNotFoundError",
     "evalue": "No module named 'tensorflow'",
     "output_type": "error",
     "traceback": [
      "\u001b[0;31m---------------------------------------------------------------------------\u001b[0m",
      "\u001b[0;31mModuleNotFoundError\u001b[0m                       Traceback (most recent call last)",
      "Cell \u001b[0;32mIn[3], line 1\u001b[0m\n\u001b[0;32m----> 1\u001b[0m \u001b[39mimport\u001b[39;00m \u001b[39mtensorflow\u001b[39;00m \u001b[39mas\u001b[39;00m \u001b[39mtf\u001b[39;00m\n\u001b[1;32m      2\u001b[0m \u001b[39mimport\u001b[39;00m \u001b[39mos\u001b[39;00m\n",
      "\u001b[0;31mModuleNotFoundError\u001b[0m: No module named 'tensorflow'"
     ]
    }
   ],
   "source": [
    "import tensorflow as tf\n",
    "import os"
   ]
  }
 ],
 "metadata": {
  "kernelspec": {
   "display_name": "Python 3",
   "language": "python",
   "name": "python3"
  },
  "language_info": {
   "codemirror_mode": {
    "name": "ipython",
    "version": 3
   },
   "file_extension": ".py",
   "mimetype": "text/x-python",
   "name": "python",
   "nbconvert_exporter": "python",
   "pygments_lexer": "ipython3",
   "version": "3.11.2"
  },
  "orig_nbformat": 4
 },
 "nbformat": 4,
 "nbformat_minor": 2
}
